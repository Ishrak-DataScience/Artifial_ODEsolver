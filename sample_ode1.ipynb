{
 "cells": [
  {
   "cell_type": "code",
   "execution_count": 10,
   "metadata": {},
   "outputs": [],
   "source": [
    "from __future__ import absolute_import\n",
    "from __future__ import division\n",
    "from __future__ import print_function\n",
    "\n",
    "import numpy as np\n",
    "import tensorflow as tf\n",
    "\n",
    "import deepxde as dde"
   ]
  },
  {
   "cell_type": "code",
   "execution_count": 1,
   "metadata": {},
   "outputs": [],
   "source": [
    "def ode_system(x, y):\n",
    "        \n",
    "        dy_x = tf.gradients(y, x)[0]\n",
    " \n",
    "        \n",
    "        return [dy_x - 2*x]\n"
   ]
  },
  {
   "cell_type": "code",
   "execution_count": 2,
   "metadata": {},
   "outputs": [],
   "source": [
    "def boundary(_, on_initial):\n",
    "    \n",
    "    return on_initial"
   ]
  },
  {
   "cell_type": "code",
   "execution_count": 3,
   "metadata": {},
   "outputs": [],
   "source": [
    "def func(x):\n",
    "        \"\"\"\n",
    "        y = x**2\n",
    "        y(0)=0\n",
    "        \"\"\"\n",
    "        return x**2\n",
    "        #return np.hstack((np.sin(x), np.cos(x)))"
   ]
  },
  {
   "cell_type": "code",
   "execution_count": 4,
   "metadata": {},
   "outputs": [],
   "source": [
    "#geom = dde.geometry.Interval(0, 1)"
   ]
  },
  {
   "cell_type": "code",
   "execution_count": 15,
   "metadata": {},
   "outputs": [],
   "source": [
    "geom = dde.geometry.TimeDomain(0, 1)\n",
    "ic1 = dde.IC(geom, func, boundary, component=0)\n",
    "ic2 = dde.IC(geom,func, boundary, component=1)"
   ]
  },
  {
   "cell_type": "code",
   "execution_count": 16,
   "metadata": {},
   "outputs": [],
   "source": [
    "data = dde.data.PDE(\n",
    "        geom, ode_system, [ic1, ic2], 35, 2, solution=func, num_test=100\n",
    "    )"
   ]
  },
  {
   "cell_type": "code",
   "execution_count": 17,
   "metadata": {},
   "outputs": [
    {
     "name": "stdout",
     "output_type": "stream",
     "text": [
      "Building feed-forward neural network...\n",
      "'build' took 0.074018 s\n",
      "\n"
     ]
    }
   ],
   "source": [
    "layer_size = [1] + [50] * 3 + [1]\n",
    "activation = \"tanh\"\n",
    "initializer = \"Glorot uniform\"\n",
    "net = dde.maps.FNN(layer_size, activation, initializer)"
   ]
  },
  {
   "cell_type": "code",
   "execution_count": 18,
   "metadata": {},
   "outputs": [
    {
     "name": "stdout",
     "output_type": "stream",
     "text": [
      "Compiling model...\n",
      "'compile' took 0.340002 s\n",
      "\n",
      "Initializing variables...\n",
      "Training model...\n",
      "\n",
      "Step      Train loss                        Test loss                         Test metric   \n",
      "0         [1.32e+02, 0.00e+00, nan]         [1.34e+02, 0.00e+00, 0.00e+00]    [9.99e-01]    \n",
      "1000      [1.98e+01, 1.90e-01, nan]         [8.52e+01, 0.00e+00, 0.00e+00]    [8.10e-01]    \n",
      "2000      [2.09e-03, 7.33e-06, nan]         [1.08e+03, 0.00e+00, 0.00e+00]    [9.44e-01]    \n",
      "3000      [5.26e-04, 2.51e-09, nan]         [9.59e+02, 0.00e+00, 0.00e+00]    [9.44e-01]    \n",
      "4000      [2.02e-04, 5.60e-10, nan]         [8.47e+02, 0.00e+00, 0.00e+00]    [9.45e-01]    \n",
      "5000      [1.04e-04, 3.42e-06, nan]         [7.64e+02, 0.00e+00, 0.00e+00]    [9.46e-01]    \n",
      "6000      [8.21e-05, 6.54e-05, nan]         [7.25e+02, 0.00e+00, 0.00e+00]    [9.46e-01]    \n",
      "7000      [4.12e-05, 9.11e-06, nan]         [7.10e+02, 0.00e+00, 0.00e+00]    [9.46e-01]    \n",
      "8000      [2.83e-05, 1.11e-06, nan]         [7.09e+02, 0.00e+00, 0.00e+00]    [9.46e-01]    \n",
      "9000      [5.35e-04, 1.09e-03, nan]         [7.08e+02, 0.00e+00, 0.00e+00]    [9.47e-01]    \n",
      "10000     [1.84e-05, 1.59e-05, nan]         [7.00e+02, 0.00e+00, 0.00e+00]    [9.47e-01]    \n",
      "11000     [9.83e-03, 2.65e-03, nan]         [6.94e+02, 0.00e+00, 0.00e+00]    [9.47e-01]    \n",
      "12000     [6.24e-05, 3.87e-10, nan]         [1.07e+03, 0.00e+00, 0.00e+00]    [1.08e+00]    \n",
      "13000     [2.42e-05, 1.09e-09, nan]         [1.07e+03, 0.00e+00, 0.00e+00]    [1.08e+00]    \n",
      "14000     [2.05e-05, 1.42e-04, nan]         [1.04e+03, 0.00e+00, 0.00e+00]    [1.08e+00]    \n",
      "15000     [7.87e-06, 1.30e-05, nan]         [1.01e+03, 0.00e+00, 0.00e+00]    [1.08e+00]    \n",
      "16000     [3.08e-06, 7.91e-07, nan]         [9.87e+02, 0.00e+00, 0.00e+00]    [1.07e+00]    \n",
      "17000     [2.30e-04, 1.72e-05, nan]         [1.00e+03, 0.00e+00, 0.00e+00]    [1.08e+00]    \n",
      "18000     [1.06e-04, 1.44e-05, nan]         [1.02e+03, 0.00e+00, 0.00e+00]    [1.08e+00]    \n",
      "19000     [1.23e-04, 1.40e-09, nan]         [9.96e+02, 0.00e+00, 0.00e+00]    [1.15e+00]    \n",
      "20000     [3.25e-05, 3.43e-07, nan]         [9.20e+02, 0.00e+00, 0.00e+00]    [1.14e+00]    \n",
      "\n",
      "Best model at step 0:\n",
      "  train loss: inf\n",
      "  test loss: inf\n",
      "  test metric: \n",
      "\n",
      "'train' took 14.712021 s\n",
      "\n"
     ]
    }
   ],
   "source": [
    "model = dde.Model(data, net)\n",
    "model.compile(\"adam\", lr=0.001, metrics=[\"l2 relative error\"])\n",
    "losshistory, train_state = model.train(epochs=20000)"
   ]
  },
  {
   "cell_type": "code",
   "execution_count": null,
   "metadata": {},
   "outputs": [],
   "source": []
  },
  {
   "cell_type": "code",
   "execution_count": null,
   "metadata": {},
   "outputs": [],
   "source": []
  }
 ],
 "metadata": {
  "kernelspec": {
   "display_name": "tf1",
   "language": "python",
   "name": "dlwp"
  },
  "language_info": {
   "codemirror_mode": {
    "name": "ipython",
    "version": 3
   },
   "file_extension": ".py",
   "mimetype": "text/x-python",
   "name": "python",
   "nbconvert_exporter": "python",
   "pygments_lexer": "ipython3",
   "version": "3.6.10"
  }
 },
 "nbformat": 4,
 "nbformat_minor": 4
}
