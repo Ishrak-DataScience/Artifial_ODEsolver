{
 "cells": [
  {
   "cell_type": "code",
   "execution_count": 1,
   "metadata": {},
   "outputs": [
    {
     "name": "stderr",
     "output_type": "stream",
     "text": [
      "C:\\ProgramData\\Anaconda3\\envs\\tf1\\lib\\site-packages\\tensorflow\\python\\framework\\dtypes.py:526: FutureWarning: Passing (type, 1) or '1type' as a synonym of type is deprecated; in a future version of numpy, it will be understood as (type, (1,)) / '(1,)type'.\n",
      "  _np_qint8 = np.dtype([(\"qint8\", np.int8, 1)])\n",
      "C:\\ProgramData\\Anaconda3\\envs\\tf1\\lib\\site-packages\\tensorflow\\python\\framework\\dtypes.py:527: FutureWarning: Passing (type, 1) or '1type' as a synonym of type is deprecated; in a future version of numpy, it will be understood as (type, (1,)) / '(1,)type'.\n",
      "  _np_quint8 = np.dtype([(\"quint8\", np.uint8, 1)])\n",
      "C:\\ProgramData\\Anaconda3\\envs\\tf1\\lib\\site-packages\\tensorflow\\python\\framework\\dtypes.py:528: FutureWarning: Passing (type, 1) or '1type' as a synonym of type is deprecated; in a future version of numpy, it will be understood as (type, (1,)) / '(1,)type'.\n",
      "  _np_qint16 = np.dtype([(\"qint16\", np.int16, 1)])\n",
      "C:\\ProgramData\\Anaconda3\\envs\\tf1\\lib\\site-packages\\tensorflow\\python\\framework\\dtypes.py:529: FutureWarning: Passing (type, 1) or '1type' as a synonym of type is deprecated; in a future version of numpy, it will be understood as (type, (1,)) / '(1,)type'.\n",
      "  _np_quint16 = np.dtype([(\"quint16\", np.uint16, 1)])\n",
      "C:\\ProgramData\\Anaconda3\\envs\\tf1\\lib\\site-packages\\tensorflow\\python\\framework\\dtypes.py:530: FutureWarning: Passing (type, 1) or '1type' as a synonym of type is deprecated; in a future version of numpy, it will be understood as (type, (1,)) / '(1,)type'.\n",
      "  _np_qint32 = np.dtype([(\"qint32\", np.int32, 1)])\n",
      "C:\\ProgramData\\Anaconda3\\envs\\tf1\\lib\\site-packages\\tensorflow\\python\\framework\\dtypes.py:535: FutureWarning: Passing (type, 1) or '1type' as a synonym of type is deprecated; in a future version of numpy, it will be understood as (type, (1,)) / '(1,)type'.\n",
      "  np_resource = np.dtype([(\"resource\", np.ubyte, 1)])\n"
     ]
    }
   ],
   "source": [
    "from __future__ import absolute_import\n",
    "from __future__ import division\n",
    "from __future__ import print_function\n",
    "\n",
    "\n",
    "import numpy as np\n",
    "import tensorflow as tf\n",
    "\n",
    "import deepxde as dde\n"
   ]
  },
  {
   "cell_type": "code",
   "execution_count": 2,
   "metadata": {},
   "outputs": [],
   "source": [
    "def ode_system(x, y):\n",
    "        \n",
    "        dy_x = tf.gradients(y, x)[0]\n",
    " \n",
    "        \n",
    "        return [dy_x - 2*x]\n"
   ]
  },
  {
   "cell_type": "code",
   "execution_count": 3,
   "metadata": {},
   "outputs": [],
   "source": [
    "def boundary(_, on_initial):\n",
    "    \n",
    "    return on_initial\n"
   ]
  },
  {
   "cell_type": "code",
   "execution_count": 4,
   "metadata": {},
   "outputs": [],
   "source": [
    " def func(x):\n",
    "        \"\"\"\n",
    "        y = 2x\n",
    "        y(0)=0\n",
    "        \"\"\"\n",
    "        return x**2\n",
    "        #return np.hstack((np.sin(x), np.cos(x)))"
   ]
  },
  {
   "cell_type": "code",
   "execution_count": 5,
   "metadata": {},
   "outputs": [],
   "source": [
    "geom = dde.geometry.Interval(0, 1)"
   ]
  },
  {
   "cell_type": "code",
   "execution_count": 6,
   "metadata": {},
   "outputs": [],
   "source": [
    "bc1 = dde.DirichletBC(geom, func, boundary, component=0)\n",
    "bc2 = dde.DirichletBC(geom, func, boundary, component=1)"
   ]
  },
  {
   "cell_type": "code",
   "execution_count": 7,
   "metadata": {},
   "outputs": [],
   "source": [
    "data = dde.data.PDE(\n",
    "        geom, ode_system, [bc1,bc2], 35, 2, solution=func, num_test=100\n",
    "    )"
   ]
  },
  {
   "cell_type": "code",
   "execution_count": 8,
   "metadata": {},
   "outputs": [
    {
     "name": "stdout",
     "output_type": "stream",
     "text": [
      "Building feed-forward neural network...\n",
      "WARNING:tensorflow:From C:\\Users\\Hasin Ishrak\\Desktop\\deepxde\\deepxde\\maps\\fnn.py:82: dense (from tensorflow.python.layers.core) is deprecated and will be removed in a future version.\n",
      "Instructions for updating:\n",
      "Use keras.layers.dense instead.\n",
      "WARNING:tensorflow:From C:\\ProgramData\\Anaconda3\\envs\\tf1\\lib\\site-packages\\tensorflow\\python\\framework\\op_def_library.py:263: colocate_with (from tensorflow.python.framework.ops) is deprecated and will be removed in a future version.\n",
      "Instructions for updating:\n",
      "Colocations handled automatically by placer.\n",
      "'build' took 0.088010 s\n",
      "\n"
     ]
    }
   ],
   "source": [
    "layer_size = [1] + [50] * 3 + [1]\n",
    "activation = \"tanh\"\n",
    "initializer = \"Glorot uniform\"\n",
    "net = dde.maps.FNN(layer_size, activation, initializer)"
   ]
  },
  {
   "cell_type": "code",
   "execution_count": 9,
   "metadata": {},
   "outputs": [
    {
     "name": "stdout",
     "output_type": "stream",
     "text": [
      "Compiling model...\n",
      "'compile' took 0.445823 s\n",
      "\n",
      "Initializing variables...\n",
      "Training model...\n",
      "\n",
      "Step      Train loss                        Test loss                         Test metric   \n",
      "0         [1.70e+00, 7.01e-01, nan]         [1.72e+00, 0.00e+00, 0.00e+00]    [1.24e+00]    \n"
     ]
    },
    {
     "name": "stderr",
     "output_type": "stream",
     "text": [
      "C:\\Users\\Hasin Ishrak\\Desktop\\deepxde\\deepxde\\model.py:351: RuntimeWarning: invalid value encountered in less\n",
      "  if self.best_loss_train > np.sum(self.loss_train):\n"
     ]
    },
    {
     "name": "stdout",
     "output_type": "stream",
     "text": [
      "1000      [1.68e-05, 1.75e-09, nan]         [1.36e-05, 0.00e+00, 0.00e+00]    [6.67e-04]    \n",
      "2000      [7.81e-06, 8.63e-11, nan]         [7.10e-06, 0.00e+00, 0.00e+00]    [4.69e-04]    \n",
      "3000      [5.93e-06, 1.06e-10, nan]         [5.39e-06, 0.00e+00, 0.00e+00]    [4.11e-04]    \n",
      "4000      [4.30e-06, 1.11e-10, nan]         [3.89e-06, 0.00e+00, 0.00e+00]    [3.51e-04]    \n",
      "5000      [3.22e-06, 8.61e-11, nan]         [2.90e-06, 0.00e+00, 0.00e+00]    [3.03e-04]    \n",
      "6000      [2.48e-06, 5.84e-11, nan]         [2.23e-06, 0.00e+00, 0.00e+00]    [2.67e-04]    \n",
      "7000      [1.96e-06, 1.68e-10, nan]         [1.77e-06, 0.00e+00, 0.00e+00]    [2.47e-04]    \n",
      "8000      [3.06e-06, 6.92e-07, nan]         [2.91e-06, 0.00e+00, 0.00e+00]    [1.35e-03]    \n",
      "9000      [1.35e-06, 7.89e-10, nan]         [1.22e-06, 0.00e+00, 0.00e+00]    [2.24e-04]    \n",
      "10000     [3.05e-05, 1.34e-05, nan]         [3.06e-05, 0.00e+00, 0.00e+00]    [6.07e-03]    \n",
      "11000     [1.02e-06, 1.16e-09, nan]         [9.16e-07, 0.00e+00, 0.00e+00]    [1.99e-04]    \n",
      "12000     [2.09e-06, 3.79e-07, nan]         [1.99e-06, 0.00e+00, 0.00e+00]    [8.55e-04]    \n",
      "13000     [1.10e-06, 1.72e-07, nan]         [1.02e-06, 0.00e+00, 0.00e+00]    [6.80e-04]    \n",
      "14000     [8.11e-07, 2.97e-07, nan]         [7.43e-07, 0.00e+00, 0.00e+00]    [1.29e-03]    \n",
      "15000     [6.28e-07, 1.35e-09, nan]         [5.65e-07, 0.00e+00, 0.00e+00]    [1.49e-04]    \n",
      "16000     [5.78e-07, 3.42e-09, nan]         [5.23e-07, 0.00e+00, 0.00e+00]    [1.82e-04]    \n",
      "17000     [8.13e-07, 8.34e-08, nan]         [7.64e-07, 0.00e+00, 0.00e+00]    [3.96e-04]    \n",
      "18000     [9.03e-07, 1.11e-06, nan]         [8.57e-07, 0.00e+00, 0.00e+00]    [2.29e-03]    \n",
      "19000     [2.21e-04, 1.50e-04, nan]         [2.22e-04, 0.00e+00, 0.00e+00]    [2.21e-02]    \n",
      "20000     [1.30e-05, 7.56e-06, nan]         [1.30e-05, 0.00e+00, 0.00e+00]    [4.85e-03]    \n",
      "\n",
      "Best model at step 0:\n",
      "  train loss: inf\n",
      "  test loss: inf\n",
      "  test metric: \n",
      "\n",
      "'train' took 16.138615 s\n",
      "\n"
     ]
    }
   ],
   "source": [
    "model = dde.Model(data, net)\n",
    "model.compile(\"adam\", lr=0.001, metrics=[\"l2 relative error\"])\n",
    "losshistory, train_state = model.train(epochs=20000)"
   ]
  },
  {
   "cell_type": "code",
   "execution_count": null,
   "metadata": {},
   "outputs": [],
   "source": []
  },
  {
   "cell_type": "code",
   "execution_count": null,
   "metadata": {},
   "outputs": [],
   "source": []
  },
  {
   "cell_type": "code",
   "execution_count": null,
   "metadata": {},
   "outputs": [],
   "source": []
  }
 ],
 "metadata": {
  "kernelspec": {
   "display_name": "tf1",
   "language": "python",
   "name": "dlwp"
  },
  "language_info": {
   "codemirror_mode": {
    "name": "ipython",
    "version": 3
   },
   "file_extension": ".py",
   "mimetype": "text/x-python",
   "name": "python",
   "nbconvert_exporter": "python",
   "pygments_lexer": "ipython3",
   "version": "3.6.10"
  }
 },
 "nbformat": 4,
 "nbformat_minor": 4
}
